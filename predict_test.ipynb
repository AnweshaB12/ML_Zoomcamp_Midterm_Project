{
 "cells": [
  {
   "cell_type": "code",
   "execution_count": 1,
   "id": "cd8b6c59",
   "metadata": {},
   "outputs": [
    {
     "data": {
      "application/javascript": [
       "IPython.notebook.set_autosave_interval(0)"
      ]
     },
     "metadata": {},
     "output_type": "display_data"
    },
    {
     "name": "stdout",
     "output_type": "stream",
     "text": [
      "Autosave disabled\n"
     ]
    }
   ],
   "source": [
    "%autosave 0"
   ]
  },
  {
   "cell_type": "code",
   "execution_count": 19,
   "id": "cccea8f0",
   "metadata": {},
   "outputs": [],
   "source": [
    "import requests"
   ]
  },
  {
   "cell_type": "code",
   "execution_count": 20,
   "id": "75ccc451",
   "metadata": {},
   "outputs": [],
   "source": [
    "url = 'http://localhost:8080/predict'"
   ]
  },
  {
   "cell_type": "code",
   "execution_count": 21,
   "id": "f5bbdf30",
   "metadata": {},
   "outputs": [],
   "source": [
    "person = {\n",
    "    \"sex\": \"male\",\n",
    "    \"age\": 37,\n",
    "    \"height\": 184,\n",
    "    \"overweight_obese_family\": \"yes\",\n",
    "    \"consumption_of_fast_food\": \"yes\",\n",
    "    \"frequency_of_consuming_vegetables\": \"rarely\",\n",
    "    \"number_of_main_meals_daily\": 2,\n",
    "    \"food_intake_between_meals\": \"usually\",\n",
    "    \"smoking\": \"yes\",\n",
    "    \"liquid_intake_daily\": \"1-2L\",\n",
    "    \"calculation_of_calorie_intake\": \"yes\",\n",
    "    \"physical_exercise\": \"5-6days\",\n",
    "    \"schedule_dedicated_to_technology\": \"0-2hrs\",\n",
    "    \"type_of_transportation_used\": \"automobile\"\n",
    "}"
   ]
  },
  {
   "cell_type": "code",
   "execution_count": 22,
   "id": "8fdcdc8a",
   "metadata": {},
   "outputs": [
    {
     "data": {
      "text/plain": [
       "{'The weight class of this person is': 'Obesity'}"
      ]
     },
     "execution_count": 22,
     "metadata": {},
     "output_type": "execute_result"
    }
   ],
   "source": [
    "requests.post(url, json=person).json()"
   ]
  },
  {
   "cell_type": "code",
   "execution_count": null,
   "id": "f5caefdb",
   "metadata": {},
   "outputs": [],
   "source": []
  }
 ],
 "metadata": {
  "kernelspec": {
   "display_name": "ml-zoomcamp",
   "language": "python",
   "name": "ml-zoomcamp"
  },
  "language_info": {
   "codemirror_mode": {
    "name": "ipython",
    "version": 3
   },
   "file_extension": ".py",
   "mimetype": "text/x-python",
   "name": "python",
   "nbconvert_exporter": "python",
   "pygments_lexer": "ipython3",
   "version": "3.11.10"
  }
 },
 "nbformat": 4,
 "nbformat_minor": 5
}
